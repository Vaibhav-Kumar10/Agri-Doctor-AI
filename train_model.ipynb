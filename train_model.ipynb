{
 "cells": [
  {
   "cell_type": "code",
   "execution_count": 1,
   "metadata": {
    "execution": {
     "iopub.execute_input": "2025-06-05T07:35:18.636220Z",
     "iopub.status.busy": "2025-06-05T07:35:18.635375Z",
     "iopub.status.idle": "2025-06-05T07:35:32.138345Z",
     "shell.execute_reply": "2025-06-05T07:35:32.137721Z",
     "shell.execute_reply.started": "2025-06-05T07:35:18.636188Z"
    },
    "trusted": true
   },
   "outputs": [],
   "source": [
    "import tensorflow as tf\n",
    "import numpy as np\n",
    "import pandas as pd\n",
    "from PIL import Image\n",
    "import os\n",
    "import os\n",
    "import shutil\n",
    "import random"
   ]
  },
  {
   "cell_type": "code",
   "execution_count": null,
   "metadata": {
    "execution": {
     "iopub.execute_input": "2025-06-05T07:35:57.090736Z",
     "iopub.status.busy": "2025-06-05T07:35:57.090138Z",
     "iopub.status.idle": "2025-06-05T07:38:19.594498Z",
     "shell.execute_reply": "2025-06-05T07:38:19.593853Z",
     "shell.execute_reply.started": "2025-06-05T07:35:57.090701Z"
    },
    "trusted": true
   },
   "outputs": [],
   "source": [
    "SOURCE_DIR = \"/PlantVillage\"\n",
    "TARGET_DIR = \"/dataset\"\n",
    "TRAIN_SPLIT = 0.8\n",
    "VALID_EXTENSIONS = [\".jpg\", \".jpeg\", \".png\"]\n",
    "\n",
    "# Clear old dataset if exists\n",
    "if os.path.exists(TARGET_DIR):\n",
    "    shutil.rmtree(TARGET_DIR)\n",
    "\n",
    "for category in os.listdir(SOURCE_DIR):\n",
    "    src_folder = os.path.join(SOURCE_DIR, category)\n",
    "    if not os.path.isdir(src_folder):\n",
    "        continue\n",
    "\n",
    "    # Filter only valid image files\n",
    "    images = [f for f in os.listdir(src_folder) if os.path.splitext(f)[1].lower() in VALID_EXTENSIONS]\n",
    "    if not images:\n",
    "        print(f\"⚠️ No valid images found in: {category}\")\n",
    "        continue\n",
    "\n",
    "    random.shuffle(images)\n",
    "\n",
    "    train_count = int(len(images) * TRAIN_SPLIT)\n",
    "    train_images = images[:train_count]\n",
    "    val_images = images[train_count:]\n",
    "\n",
    "    train_path = os.path.join(TARGET_DIR, \"train\", category)\n",
    "    val_path = os.path.join(TARGET_DIR, \"val\", category)\n",
    "    os.makedirs(train_path, exist_ok=True)\n",
    "    os.makedirs(val_path, exist_ok=True)\n",
    "\n",
    "    for img in train_images:\n",
    "        shutil.copy(os.path.join(src_folder, img), os.path.join(train_path, img))\n",
    "    for img in val_images:\n",
    "        shutil.copy(os.path.join(src_folder, img), os.path.join(val_path, img))\n",
    "\n",
    "    print(f\"✅ {category}: {len(train_images)} train, {len(val_images)} val\")\n",
    "\n",
    "print(\"\\n✅ Dataset split complete.\")\n"
   ]
  },
  {
   "cell_type": "code",
   "execution_count": 3,
   "metadata": {
    "execution": {
     "iopub.execute_input": "2025-06-05T07:41:23.155609Z",
     "iopub.status.busy": "2025-06-05T07:41:23.155317Z",
     "iopub.status.idle": "2025-06-05T07:41:23.161228Z",
     "shell.execute_reply": "2025-06-05T07:41:23.160496Z",
     "shell.execute_reply.started": "2025-06-05T07:41:23.155590Z"
    },
    "trusted": true
   },
   "outputs": [
    {
     "name": "stdout",
     "output_type": "stream",
     "text": [
      "Train classes: ['Pepper__bell___Bacterial_spot', 'Pepper__bell___healthy', 'PlantVillage']\n",
      "Validation classes: ['Pepper__bell___Bacterial_spot', 'Pepper__bell___healthy', 'PlantVillage']\n"
     ]
    }
   ],
   "source": [
    "from pathlib import Path\n",
    "\n",
    "train_dir = Path(\"dataset/train\")\n",
    "val_dir = Path(\"dataset/val\")\n",
    "\n",
    "print(\"Train classes:\", [x.name for x in train_dir.iterdir()])\n",
    "print(\"Validation classes:\", [x.name for x in val_dir.iterdir()])"
   ]
  },
  {
   "cell_type": "code",
   "execution_count": 4,
   "metadata": {
    "execution": {
     "iopub.execute_input": "2025-06-05T07:41:25.055552Z",
     "iopub.status.busy": "2025-06-05T07:41:25.054855Z",
     "iopub.status.idle": "2025-06-05T07:41:25.361058Z",
     "shell.execute_reply": "2025-06-05T07:41:25.360527Z",
     "shell.execute_reply.started": "2025-06-05T07:41:25.055527Z"
    },
    "trusted": true
   },
   "outputs": [
    {
     "name": "stdout",
     "output_type": "stream",
     "text": [
      "Found 2386 images belonging to 3 classes.\n"
     ]
    }
   ],
   "source": [
    "from tensorflow.keras.preprocessing.image import ImageDataGenerator\n",
    "import scipy\n",
    "\n",
    "train_datagen = ImageDataGenerator(\n",
    "    rescale=1./255,\n",
    "    rotation_range=20,\n",
    "    shear_range=0.2,\n",
    "    zoom_range=0.2,\n",
    "    horizontal_flip=True\n",
    ")\n",
    "\n",
    "train_generator = train_datagen.flow_from_directory(\n",
    "    'dataset/train/',\n",
    "    target_size=(224, 224),\n",
    "    batch_size=32,\n",
    "    class_mode='categorical'\n",
    ")"
   ]
  },
  {
   "cell_type": "code",
   "execution_count": 11,
   "metadata": {
    "execution": {
     "iopub.execute_input": "2025-06-05T07:41:32.301339Z",
     "iopub.status.busy": "2025-06-05T07:41:32.301059Z",
     "iopub.status.idle": "2025-06-05T08:23:05.433132Z",
     "shell.execute_reply": "2025-06-05T08:23:05.432340Z",
     "shell.execute_reply.started": "2025-06-05T07:41:32.301319Z"
    },
    "trusted": true
   },
   "outputs": [
    {
     "name": "stdout",
     "output_type": "stream",
     "text": [
      "Epoch 1/25\n",
      "75/75 [==============================] - 65s 825ms/step - loss: 0.1882 - accuracy: 0.9191\n",
      "Epoch 2/25\n",
      "75/75 [==============================] - 61s 805ms/step - loss: 0.0698 - accuracy: 0.9774\n",
      "Epoch 3/25\n",
      "75/75 [==============================] - 55s 731ms/step - loss: 0.0588 - accuracy: 0.9811\n",
      "Epoch 4/25\n",
      "75/75 [==============================] - 55s 733ms/step - loss: 0.0455 - accuracy: 0.9807\n",
      "Epoch 5/25\n",
      "75/75 [==============================] - 51s 681ms/step - loss: 0.0381 - accuracy: 0.9853\n",
      "Epoch 6/25\n",
      "75/75 [==============================] - 56s 737ms/step - loss: 0.0321 - accuracy: 0.9866\n",
      "Epoch 7/25\n",
      "75/75 [==============================] - 56s 741ms/step - loss: 0.0333 - accuracy: 0.9870\n",
      "Epoch 8/25\n",
      "75/75 [==============================] - 61s 809ms/step - loss: 0.0443 - accuracy: 0.9837\n",
      "Epoch 9/25\n",
      "75/75 [==============================] - 49s 652ms/step - loss: 0.0410 - accuracy: 0.9841\n",
      "Epoch 10/25\n",
      "75/75 [==============================] - 49s 659ms/step - loss: 0.0296 - accuracy: 0.9895\n",
      "Epoch 11/25\n",
      "75/75 [==============================] - 53s 701ms/step - loss: 0.0251 - accuracy: 0.9908\n",
      "Epoch 12/25\n",
      "75/75 [==============================] - 51s 682ms/step - loss: 0.0304 - accuracy: 0.9870\n",
      "Epoch 13/25\n",
      "75/75 [==============================] - 51s 675ms/step - loss: 0.0380 - accuracy: 0.9870\n",
      "Epoch 14/25\n",
      "75/75 [==============================] - 52s 685ms/step - loss: 0.0218 - accuracy: 0.9929\n",
      "Epoch 15/25\n",
      "75/75 [==============================] - 51s 673ms/step - loss: 0.0231 - accuracy: 0.9912\n",
      "Epoch 16/25\n",
      "75/75 [==============================] - 50s 668ms/step - loss: 0.0233 - accuracy: 0.9891\n",
      "Epoch 17/25\n",
      "75/75 [==============================] - 48s 633ms/step - loss: 0.0137 - accuracy: 0.9958\n",
      "Epoch 18/25\n",
      "75/75 [==============================] - 45s 600ms/step - loss: 0.0265 - accuracy: 0.9904\n",
      "Epoch 19/25\n",
      "75/75 [==============================] - 57s 754ms/step - loss: 0.0146 - accuracy: 0.9941\n",
      "Epoch 20/25\n",
      "75/75 [==============================] - 44s 580ms/step - loss: 0.0151 - accuracy: 0.9954\n",
      "Epoch 21/25\n",
      "75/75 [==============================] - 42s 558ms/step - loss: 0.0208 - accuracy: 0.9929\n",
      "Epoch 22/25\n",
      "75/75 [==============================] - 43s 569ms/step - loss: 0.0331 - accuracy: 0.9858\n",
      "Epoch 23/25\n",
      "75/75 [==============================] - 45s 596ms/step - loss: 0.0149 - accuracy: 0.9933\n",
      "Epoch 24/25\n",
      "75/75 [==============================] - 45s 592ms/step - loss: 0.0176 - accuracy: 0.9937\n",
      "Epoch 25/25\n",
      "75/75 [==============================] - 65s 866ms/step - loss: 0.0134 - accuracy: 0.9950\n"
     ]
    },
    {
     "data": {
      "text/plain": [
       "<keras.src.callbacks.History at 0x239013a75b0>"
      ]
     },
     "execution_count": 11,
     "metadata": {},
     "output_type": "execute_result"
    }
   ],
   "source": [
    "from tensorflow.keras.applications import MobileNetV2\n",
    "from tensorflow.keras import layers, models\n",
    "\n",
    "base_model = MobileNetV2(input_shape=(224,224,3), include_top=False, weights='imagenet')\n",
    "base_model.trainable = False\n",
    "\n",
    "model = models.Sequential([\n",
    "    base_model,\n",
    "    layers.GlobalAveragePooling2D(),\n",
    "    layers.Dense(128, activation='relu'),\n",
    "    layers.Dense(train_generator.num_classes, activation='softmax')\n",
    "])\n",
    "\n",
    "model.compile(optimizer='adam', loss='categorical_crossentropy', metrics=['accuracy'])\n",
    "model.fit(train_generator, epochs=25)"
   ]
  },
  {
   "cell_type": "code",
   "execution_count": 1,
   "metadata": {
    "execution": {
     "iopub.execute_input": "2025-06-05T08:23:43.675803Z",
     "iopub.status.busy": "2025-06-05T08:23:43.675532Z",
     "iopub.status.idle": "2025-06-05T08:23:44.085132Z",
     "shell.execute_reply": "2025-06-05T08:23:44.084583Z",
     "shell.execute_reply.started": "2025-06-05T08:23:43.675784Z"
    },
    "trusted": true
   },
   "outputs": [
    {
     "ename": "NameError",
     "evalue": "name 'model' is not defined",
     "output_type": "error",
     "traceback": [
      "\u001b[1;31m---------------------------------------------------------------------------\u001b[0m",
      "\u001b[1;31mNameError\u001b[0m                                 Traceback (most recent call last)",
      "Cell \u001b[1;32mIn[1], line 1\u001b[0m\n\u001b[1;32m----> 1\u001b[0m \u001b[43mmodel\u001b[49m\u001b[38;5;241m.\u001b[39msave(\u001b[38;5;124m\"\u001b[39m\u001b[38;5;124mplant_disease_model.keras\u001b[39m\u001b[38;5;124m\"\u001b[39m)\n",
      "\u001b[1;31mNameError\u001b[0m: name 'model' is not defined"
     ]
    }
   ],
   "source": [
    "model.save(\"plant_disease_model.keras\")"
   ]
  },
  {
   "cell_type": "code",
   "execution_count": null,
   "metadata": {},
   "outputs": [],
   "source": []
  }
 ],
 "metadata": {
  "kaggle": {
   "accelerator": "nvidiaTeslaT4",
   "dataSources": [
    {
     "datasetId": 70909,
     "sourceId": 150545,
     "sourceType": "datasetVersion"
    }
   ],
   "dockerImageVersionId": 31041,
   "isGpuEnabled": true,
   "isInternetEnabled": true,
   "language": "python",
   "sourceType": "notebook"
  },
  "kernelspec": {
   "display_name": "agri_env",
   "language": "python",
   "name": "python3"
  },
  "language_info": {
   "codemirror_mode": {
    "name": "ipython",
    "version": 3
   },
   "file_extension": ".py",
   "mimetype": "text/x-python",
   "name": "python",
   "nbconvert_exporter": "python",
   "pygments_lexer": "ipython3",
   "version": "3.10.1"
  }
 },
 "nbformat": 4,
 "nbformat_minor": 4
}
